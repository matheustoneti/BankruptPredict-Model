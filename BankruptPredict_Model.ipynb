{
  "nbformat": 4,
  "nbformat_minor": 0,
  "metadata": {
    "colab": {
      "provenance": [],
      "authorship_tag": "ABX9TyMJhm0V0d1So0Iy8kIDaDFP",
      "include_colab_link": true
    },
    "kernelspec": {
      "name": "python3",
      "display_name": "Python 3"
    },
    "language_info": {
      "name": "python"
    }
  },
  "cells": [
    {
      "cell_type": "markdown",
      "metadata": {
        "id": "view-in-github",
        "colab_type": "text"
      },
      "source": [
        "<a href=\"https://colab.research.google.com/github/matheustoneti/BankruptPredict-Model/blob/main/BankruptPredict_Model.ipynb\" target=\"_parent\"><img src=\"https://colab.research.google.com/assets/colab-badge.svg\" alt=\"Open In Colab\"/></a>"
      ]
    },
    {
      "cell_type": "code",
      "execution_count": null,
      "metadata": {
        "id": "HW4O3X5ppHcy"
      },
      "outputs": [],
      "source": [
        "import pandas as pd\n",
        "import numpy as np\n",
        "from sklearn.model_selection import train_test_split\n",
        "from sklearn.ensemble import RandomForestClassifier\n",
        "from sklearn.svm import SVC\n",
        "from sklearn import preprocessing\n"
      ]
    },
    {
      "cell_type": "code",
      "source": [
        "dados = pd.read_csv('data.csv')"
      ],
      "metadata": {
        "id": "H09ZsdJBsyUi"
      },
      "execution_count": null,
      "outputs": []
    },
    {
      "cell_type": "code",
      "source": [
        "dados.head(5)"
      ],
      "metadata": {
        "colab": {
          "base_uri": "https://localhost:8080/",
          "height": 386
        },
        "id": "tM-PM_LXs2Qy",
        "outputId": "14c9eada-c4a8-45c6-ea5e-f391c06c0ea7"
      },
      "execution_count": null,
      "outputs": [
        {
          "output_type": "execute_result",
          "data": {
            "text/plain": [
              "   Bankrupt?   ROA(C) before interest and depreciation before interest  \\\n",
              "0          1                                           0.370594          \n",
              "1          1                                           0.464291          \n",
              "2          1                                           0.426071          \n",
              "3          1                                           0.399844          \n",
              "4          1                                           0.465022          \n",
              "\n",
              "    ROA(A) before interest and % after tax  \\\n",
              "0                                 0.424389   \n",
              "1                                 0.538214   \n",
              "2                                 0.499019   \n",
              "3                                 0.451265   \n",
              "4                                 0.538432   \n",
              "\n",
              "    ROA(B) before interest and depreciation after tax  \\\n",
              "0                                           0.405750    \n",
              "1                                           0.516730    \n",
              "2                                           0.472295    \n",
              "3                                           0.457733    \n",
              "4                                           0.522298    \n",
              "\n",
              "    Operating Gross Margin   Realized Sales Gross Margin  \\\n",
              "0                 0.601457                      0.601457   \n",
              "1                 0.610235                      0.610235   \n",
              "2                 0.601450                      0.601364   \n",
              "3                 0.583541                      0.583541   \n",
              "4                 0.598783                      0.598783   \n",
              "\n",
              "    Operating Profit Rate   Pre-tax net Interest Rate  \\\n",
              "0                0.998969                    0.796887   \n",
              "1                0.998946                    0.797380   \n",
              "2                0.998857                    0.796403   \n",
              "3                0.998700                    0.796967   \n",
              "4                0.998973                    0.797366   \n",
              "\n",
              "    After-tax net Interest Rate   Non-industry income and expenditure/revenue  \\\n",
              "0                      0.808809                                      0.302646   \n",
              "1                      0.809301                                      0.303556   \n",
              "2                      0.808388                                      0.302035   \n",
              "3                      0.808966                                      0.303350   \n",
              "4                      0.809304                                      0.303475   \n",
              "\n",
              "   ...   Net Income to Total Assets   Total assets to GNP price  \\\n",
              "0  ...                     0.716845                    0.009219   \n",
              "1  ...                     0.795297                    0.008323   \n",
              "2  ...                     0.774670                    0.040003   \n",
              "3  ...                     0.739555                    0.003252   \n",
              "4  ...                     0.795016                    0.003878   \n",
              "\n",
              "    No-credit Interval   Gross Profit to Sales  \\\n",
              "0             0.622879                0.601453   \n",
              "1             0.623652                0.610237   \n",
              "2             0.623841                0.601449   \n",
              "3             0.622929                0.583538   \n",
              "4             0.623521                0.598782   \n",
              "\n",
              "    Net Income to Stockholder's Equity   Liability to Equity  \\\n",
              "0                             0.827890              0.290202   \n",
              "1                             0.839969              0.283846   \n",
              "2                             0.836774              0.290189   \n",
              "3                             0.834697              0.281721   \n",
              "4                             0.839973              0.278514   \n",
              "\n",
              "    Degree of Financial Leverage (DFL)  \\\n",
              "0                             0.026601   \n",
              "1                             0.264577   \n",
              "2                             0.026555   \n",
              "3                             0.026697   \n",
              "4                             0.024752   \n",
              "\n",
              "    Interest Coverage Ratio (Interest expense to EBIT)   Net Income Flag  \\\n",
              "0                                           0.564050                 1.0   \n",
              "1                                           0.570175                 1.0   \n",
              "2                                           0.563706                 1.0   \n",
              "3                                           0.564663                 1.0   \n",
              "4                                           0.575617                 1.0   \n",
              "\n",
              "    Equity to Liability  \n",
              "0              0.016469  \n",
              "1              0.020794  \n",
              "2              0.016474  \n",
              "3              0.023982  \n",
              "4              0.035490  \n",
              "\n",
              "[5 rows x 96 columns]"
            ],
            "text/html": [
              "\n",
              "  <div id=\"df-6486feae-4f46-4321-8620-f0f979838b3e\">\n",
              "    <div class=\"colab-df-container\">\n",
              "      <div>\n",
              "<style scoped>\n",
              "    .dataframe tbody tr th:only-of-type {\n",
              "        vertical-align: middle;\n",
              "    }\n",
              "\n",
              "    .dataframe tbody tr th {\n",
              "        vertical-align: top;\n",
              "    }\n",
              "\n",
              "    .dataframe thead th {\n",
              "        text-align: right;\n",
              "    }\n",
              "</style>\n",
              "<table border=\"1\" class=\"dataframe\">\n",
              "  <thead>\n",
              "    <tr style=\"text-align: right;\">\n",
              "      <th></th>\n",
              "      <th>Bankrupt?</th>\n",
              "      <th>ROA(C) before interest and depreciation before interest</th>\n",
              "      <th>ROA(A) before interest and % after tax</th>\n",
              "      <th>ROA(B) before interest and depreciation after tax</th>\n",
              "      <th>Operating Gross Margin</th>\n",
              "      <th>Realized Sales Gross Margin</th>\n",
              "      <th>Operating Profit Rate</th>\n",
              "      <th>Pre-tax net Interest Rate</th>\n",
              "      <th>After-tax net Interest Rate</th>\n",
              "      <th>Non-industry income and expenditure/revenue</th>\n",
              "      <th>...</th>\n",
              "      <th>Net Income to Total Assets</th>\n",
              "      <th>Total assets to GNP price</th>\n",
              "      <th>No-credit Interval</th>\n",
              "      <th>Gross Profit to Sales</th>\n",
              "      <th>Net Income to Stockholder's Equity</th>\n",
              "      <th>Liability to Equity</th>\n",
              "      <th>Degree of Financial Leverage (DFL)</th>\n",
              "      <th>Interest Coverage Ratio (Interest expense to EBIT)</th>\n",
              "      <th>Net Income Flag</th>\n",
              "      <th>Equity to Liability</th>\n",
              "    </tr>\n",
              "  </thead>\n",
              "  <tbody>\n",
              "    <tr>\n",
              "      <th>0</th>\n",
              "      <td>1</td>\n",
              "      <td>0.370594</td>\n",
              "      <td>0.424389</td>\n",
              "      <td>0.405750</td>\n",
              "      <td>0.601457</td>\n",
              "      <td>0.601457</td>\n",
              "      <td>0.998969</td>\n",
              "      <td>0.796887</td>\n",
              "      <td>0.808809</td>\n",
              "      <td>0.302646</td>\n",
              "      <td>...</td>\n",
              "      <td>0.716845</td>\n",
              "      <td>0.009219</td>\n",
              "      <td>0.622879</td>\n",
              "      <td>0.601453</td>\n",
              "      <td>0.827890</td>\n",
              "      <td>0.290202</td>\n",
              "      <td>0.026601</td>\n",
              "      <td>0.564050</td>\n",
              "      <td>1.0</td>\n",
              "      <td>0.016469</td>\n",
              "    </tr>\n",
              "    <tr>\n",
              "      <th>1</th>\n",
              "      <td>1</td>\n",
              "      <td>0.464291</td>\n",
              "      <td>0.538214</td>\n",
              "      <td>0.516730</td>\n",
              "      <td>0.610235</td>\n",
              "      <td>0.610235</td>\n",
              "      <td>0.998946</td>\n",
              "      <td>0.797380</td>\n",
              "      <td>0.809301</td>\n",
              "      <td>0.303556</td>\n",
              "      <td>...</td>\n",
              "      <td>0.795297</td>\n",
              "      <td>0.008323</td>\n",
              "      <td>0.623652</td>\n",
              "      <td>0.610237</td>\n",
              "      <td>0.839969</td>\n",
              "      <td>0.283846</td>\n",
              "      <td>0.264577</td>\n",
              "      <td>0.570175</td>\n",
              "      <td>1.0</td>\n",
              "      <td>0.020794</td>\n",
              "    </tr>\n",
              "    <tr>\n",
              "      <th>2</th>\n",
              "      <td>1</td>\n",
              "      <td>0.426071</td>\n",
              "      <td>0.499019</td>\n",
              "      <td>0.472295</td>\n",
              "      <td>0.601450</td>\n",
              "      <td>0.601364</td>\n",
              "      <td>0.998857</td>\n",
              "      <td>0.796403</td>\n",
              "      <td>0.808388</td>\n",
              "      <td>0.302035</td>\n",
              "      <td>...</td>\n",
              "      <td>0.774670</td>\n",
              "      <td>0.040003</td>\n",
              "      <td>0.623841</td>\n",
              "      <td>0.601449</td>\n",
              "      <td>0.836774</td>\n",
              "      <td>0.290189</td>\n",
              "      <td>0.026555</td>\n",
              "      <td>0.563706</td>\n",
              "      <td>1.0</td>\n",
              "      <td>0.016474</td>\n",
              "    </tr>\n",
              "    <tr>\n",
              "      <th>3</th>\n",
              "      <td>1</td>\n",
              "      <td>0.399844</td>\n",
              "      <td>0.451265</td>\n",
              "      <td>0.457733</td>\n",
              "      <td>0.583541</td>\n",
              "      <td>0.583541</td>\n",
              "      <td>0.998700</td>\n",
              "      <td>0.796967</td>\n",
              "      <td>0.808966</td>\n",
              "      <td>0.303350</td>\n",
              "      <td>...</td>\n",
              "      <td>0.739555</td>\n",
              "      <td>0.003252</td>\n",
              "      <td>0.622929</td>\n",
              "      <td>0.583538</td>\n",
              "      <td>0.834697</td>\n",
              "      <td>0.281721</td>\n",
              "      <td>0.026697</td>\n",
              "      <td>0.564663</td>\n",
              "      <td>1.0</td>\n",
              "      <td>0.023982</td>\n",
              "    </tr>\n",
              "    <tr>\n",
              "      <th>4</th>\n",
              "      <td>1</td>\n",
              "      <td>0.465022</td>\n",
              "      <td>0.538432</td>\n",
              "      <td>0.522298</td>\n",
              "      <td>0.598783</td>\n",
              "      <td>0.598783</td>\n",
              "      <td>0.998973</td>\n",
              "      <td>0.797366</td>\n",
              "      <td>0.809304</td>\n",
              "      <td>0.303475</td>\n",
              "      <td>...</td>\n",
              "      <td>0.795016</td>\n",
              "      <td>0.003878</td>\n",
              "      <td>0.623521</td>\n",
              "      <td>0.598782</td>\n",
              "      <td>0.839973</td>\n",
              "      <td>0.278514</td>\n",
              "      <td>0.024752</td>\n",
              "      <td>0.575617</td>\n",
              "      <td>1.0</td>\n",
              "      <td>0.035490</td>\n",
              "    </tr>\n",
              "  </tbody>\n",
              "</table>\n",
              "<p>5 rows × 96 columns</p>\n",
              "</div>\n",
              "      <button class=\"colab-df-convert\" onclick=\"convertToInteractive('df-6486feae-4f46-4321-8620-f0f979838b3e')\"\n",
              "              title=\"Convert this dataframe to an interactive table.\"\n",
              "              style=\"display:none;\">\n",
              "        \n",
              "  <svg xmlns=\"http://www.w3.org/2000/svg\" height=\"24px\"viewBox=\"0 0 24 24\"\n",
              "       width=\"24px\">\n",
              "    <path d=\"M0 0h24v24H0V0z\" fill=\"none\"/>\n",
              "    <path d=\"M18.56 5.44l.94 2.06.94-2.06 2.06-.94-2.06-.94-.94-2.06-.94 2.06-2.06.94zm-11 1L8.5 8.5l.94-2.06 2.06-.94-2.06-.94L8.5 2.5l-.94 2.06-2.06.94zm10 10l.94 2.06.94-2.06 2.06-.94-2.06-.94-.94-2.06-.94 2.06-2.06.94z\"/><path d=\"M17.41 7.96l-1.37-1.37c-.4-.4-.92-.59-1.43-.59-.52 0-1.04.2-1.43.59L10.3 9.45l-7.72 7.72c-.78.78-.78 2.05 0 2.83L4 21.41c.39.39.9.59 1.41.59.51 0 1.02-.2 1.41-.59l7.78-7.78 2.81-2.81c.8-.78.8-2.07 0-2.86zM5.41 20L4 18.59l7.72-7.72 1.47 1.35L5.41 20z\"/>\n",
              "  </svg>\n",
              "      </button>\n",
              "      \n",
              "  <style>\n",
              "    .colab-df-container {\n",
              "      display:flex;\n",
              "      flex-wrap:wrap;\n",
              "      gap: 12px;\n",
              "    }\n",
              "\n",
              "    .colab-df-convert {\n",
              "      background-color: #E8F0FE;\n",
              "      border: none;\n",
              "      border-radius: 50%;\n",
              "      cursor: pointer;\n",
              "      display: none;\n",
              "      fill: #1967D2;\n",
              "      height: 32px;\n",
              "      padding: 0 0 0 0;\n",
              "      width: 32px;\n",
              "    }\n",
              "\n",
              "    .colab-df-convert:hover {\n",
              "      background-color: #E2EBFA;\n",
              "      box-shadow: 0px 1px 2px rgba(60, 64, 67, 0.3), 0px 1px 3px 1px rgba(60, 64, 67, 0.15);\n",
              "      fill: #174EA6;\n",
              "    }\n",
              "\n",
              "    [theme=dark] .colab-df-convert {\n",
              "      background-color: #3B4455;\n",
              "      fill: #D2E3FC;\n",
              "    }\n",
              "\n",
              "    [theme=dark] .colab-df-convert:hover {\n",
              "      background-color: #434B5C;\n",
              "      box-shadow: 0px 1px 3px 1px rgba(0, 0, 0, 0.15);\n",
              "      filter: drop-shadow(0px 1px 2px rgba(0, 0, 0, 0.3));\n",
              "      fill: #FFFFFF;\n",
              "    }\n",
              "  </style>\n",
              "\n",
              "      <script>\n",
              "        const buttonEl =\n",
              "          document.querySelector('#df-6486feae-4f46-4321-8620-f0f979838b3e button.colab-df-convert');\n",
              "        buttonEl.style.display =\n",
              "          google.colab.kernel.accessAllowed ? 'block' : 'none';\n",
              "\n",
              "        async function convertToInteractive(key) {\n",
              "          const element = document.querySelector('#df-6486feae-4f46-4321-8620-f0f979838b3e');\n",
              "          const dataTable =\n",
              "            await google.colab.kernel.invokeFunction('convertToInteractive',\n",
              "                                                     [key], {});\n",
              "          if (!dataTable) return;\n",
              "\n",
              "          const docLinkHtml = 'Like what you see? Visit the ' +\n",
              "            '<a target=\"_blank\" href=https://colab.research.google.com/notebooks/data_table.ipynb>data table notebook</a>'\n",
              "            + ' to learn more about interactive tables.';\n",
              "          element.innerHTML = '';\n",
              "          dataTable['output_type'] = 'display_data';\n",
              "          await google.colab.output.renderOutput(dataTable, element);\n",
              "          const docLink = document.createElement('div');\n",
              "          docLink.innerHTML = docLinkHtml;\n",
              "          element.appendChild(docLink);\n",
              "        }\n",
              "      </script>\n",
              "    </div>\n",
              "  </div>\n",
              "  "
            ]
          },
          "metadata": {},
          "execution_count": 9
        }
      ]
    },
    {
      "cell_type": "code",
      "source": [
        "dados.shape"
      ],
      "metadata": {
        "colab": {
          "base_uri": "https://localhost:8080/"
        },
        "id": "C_5fgM7s21CJ",
        "outputId": "51eba931-225c-4813-a824-85b4d39ed21a"
      },
      "execution_count": 47,
      "outputs": [
        {
          "output_type": "execute_result",
          "data": {
            "text/plain": [
              "(627, 96)"
            ]
          },
          "metadata": {},
          "execution_count": 47
        }
      ]
    },
    {
      "cell_type": "code",
      "source": [
        "y = dados['Bankrupt?']"
      ],
      "metadata": {
        "id": "esD5iL8Es4CK"
      },
      "execution_count": 48,
      "outputs": []
    },
    {
      "cell_type": "code",
      "source": [
        "y.shape"
      ],
      "metadata": {
        "colab": {
          "base_uri": "https://localhost:8080/"
        },
        "id": "gyVmg3qH3cIh",
        "outputId": "2137ee34-0908-419b-c5e8-9dc2e92291fd"
      },
      "execution_count": 54,
      "outputs": [
        {
          "output_type": "execute_result",
          "data": {
            "text/plain": [
              "(627,)"
            ]
          },
          "metadata": {},
          "execution_count": 54
        }
      ]
    },
    {
      "cell_type": "code",
      "source": [
        "x = dados.drop(['Bankrupt?'], axis=1)"
      ],
      "metadata": {
        "id": "tymy6ZsXtA2h"
      },
      "execution_count": 49,
      "outputs": []
    },
    {
      "cell_type": "code",
      "source": [
        "x.info()"
      ],
      "metadata": {
        "colab": {
          "base_uri": "https://localhost:8080/"
        },
        "id": "NmWYWOKatJEB",
        "outputId": "cdce6a6c-8074-4f2e-9391-49d3db826daa"
      },
      "execution_count": 50,
      "outputs": [
        {
          "output_type": "stream",
          "name": "stdout",
          "text": [
            "<class 'pandas.core.frame.DataFrame'>\n",
            "RangeIndex: 627 entries, 0 to 626\n",
            "Data columns (total 95 columns):\n",
            " #   Column                                                    Non-Null Count  Dtype  \n",
            "---  ------                                                    --------------  -----  \n",
            " 0    ROA(C) before interest and depreciation before interest  627 non-null    float64\n",
            " 1    ROA(A) before interest and % after tax                   627 non-null    float64\n",
            " 2    ROA(B) before interest and depreciation after tax        627 non-null    float64\n",
            " 3    Operating Gross Margin                                   627 non-null    float64\n",
            " 4    Realized Sales Gross Margin                              627 non-null    float64\n",
            " 5    Operating Profit Rate                                    627 non-null    float64\n",
            " 6    Pre-tax net Interest Rate                                627 non-null    float64\n",
            " 7    After-tax net Interest Rate                              627 non-null    float64\n",
            " 8    Non-industry income and expenditure/revenue              627 non-null    float64\n",
            " 9    Continuous interest rate (after tax)                     627 non-null    float64\n",
            " 10   Operating Expense Rate                                   627 non-null    float64\n",
            " 11   Research and development expense rate                    627 non-null    float64\n",
            " 12   Cash flow rate                                           627 non-null    float64\n",
            " 13   Interest-bearing debt interest rate                      627 non-null    float64\n",
            " 14   Tax rate (A)                                             627 non-null    float64\n",
            " 15   Net Value Per Share (B)                                  627 non-null    float64\n",
            " 16   Net Value Per Share (A)                                  627 non-null    float64\n",
            " 17   Net Value Per Share (C)                                  627 non-null    float64\n",
            " 18   Persistent EPS in the Last Four Seasons                  627 non-null    float64\n",
            " 19   Cash Flow Per Share                                      627 non-null    float64\n",
            " 20   Revenue Per Share (Yuan ¥)                               627 non-null    float64\n",
            " 21   Operating Profit Per Share (Yuan ¥)                      627 non-null    float64\n",
            " 22   Per Share Net profit before tax (Yuan ¥)                 627 non-null    float64\n",
            " 23   Realized Sales Gross Profit Growth Rate                  627 non-null    float64\n",
            " 24   Operating Profit Growth Rate                             627 non-null    float64\n",
            " 25   After-tax Net Profit Growth Rate                         627 non-null    float64\n",
            " 26   Regular Net Profit Growth Rate                           627 non-null    float64\n",
            " 27   Continuous Net Profit Growth Rate                        627 non-null    float64\n",
            " 28   Total Asset Growth Rate                                  627 non-null    float64\n",
            " 29   Net Value Growth Rate                                    627 non-null    float64\n",
            " 30   Total Asset Return Growth Rate Ratio                     627 non-null    float64\n",
            " 31   Cash Reinvestment %                                      627 non-null    float64\n",
            " 32   Current Ratio                                            627 non-null    float64\n",
            " 33   Quick Ratio                                              627 non-null    float64\n",
            " 34   Interest Expense Ratio                                   627 non-null    float64\n",
            " 35   Total debt/Total net worth                               627 non-null    float64\n",
            " 36   Debt ratio %                                             627 non-null    float64\n",
            " 37   Net worth/Assets                                         627 non-null    float64\n",
            " 38   Long-term fund suitability ratio (A)                     627 non-null    float64\n",
            " 39   Borrowing dependency                                     627 non-null    float64\n",
            " 40   Contingent liabilities/Net worth                         627 non-null    float64\n",
            " 41   Operating profit/Paid-in capital                         627 non-null    float64\n",
            " 42   Net profit before tax/Paid-in capital                    627 non-null    float64\n",
            " 43   Inventory and accounts receivable/Net value              627 non-null    float64\n",
            " 44   Total Asset Turnover                                     627 non-null    float64\n",
            " 45   Accounts Receivable Turnover                             627 non-null    float64\n",
            " 46   Average Collection Days                                  627 non-null    float64\n",
            " 47   Inventory Turnover Rate (times)                          627 non-null    float64\n",
            " 48   Fixed Assets Turnover Frequency                          627 non-null    float64\n",
            " 49   Net Worth Turnover Rate (times)                          627 non-null    float64\n",
            " 50   Revenue per person                                       627 non-null    float64\n",
            " 51   Operating profit per person                              627 non-null    float64\n",
            " 52   Allocation rate per person                               627 non-null    float64\n",
            " 53   Working Capital to Total Assets                          627 non-null    float64\n",
            " 54   Quick Assets/Total Assets                                627 non-null    float64\n",
            " 55   Current Assets/Total Assets                              627 non-null    float64\n",
            " 56   Cash/Total Assets                                        627 non-null    float64\n",
            " 57   Quick Assets/Current Liability                           627 non-null    float64\n",
            " 58   Cash/Current Liability                                   627 non-null    float64\n",
            " 59   Current Liability to Assets                              627 non-null    float64\n",
            " 60   Operating Funds to Liability                             627 non-null    float64\n",
            " 61   Inventory/Working Capital                                626 non-null    float64\n",
            " 62   Inventory/Current Liability                              626 non-null    float64\n",
            " 63   Current Liabilities/Liability                            626 non-null    float64\n",
            " 64   Working Capital/Equity                                   626 non-null    float64\n",
            " 65   Current Liabilities/Equity                               626 non-null    float64\n",
            " 66   Long-term Liability to Current Assets                    626 non-null    float64\n",
            " 67   Retained Earnings to Total Assets                        626 non-null    float64\n",
            " 68   Total income/Total expense                               626 non-null    float64\n",
            " 69   Total expense/Assets                                     626 non-null    float64\n",
            " 70   Current Asset Turnover Rate                              626 non-null    float64\n",
            " 71   Quick Asset Turnover Rate                                626 non-null    float64\n",
            " 72   Working capitcal Turnover Rate                           626 non-null    float64\n",
            " 73   Cash Turnover Rate                                       626 non-null    float64\n",
            " 74   Cash Flow to Sales                                       626 non-null    float64\n",
            " 75   Fixed Assets to Assets                                   626 non-null    float64\n",
            " 76   Current Liability to Liability                           626 non-null    float64\n",
            " 77   Current Liability to Equity                              626 non-null    float64\n",
            " 78   Equity to Long-term Liability                            626 non-null    float64\n",
            " 79   Cash Flow to Total Assets                                626 non-null    float64\n",
            " 80   Cash Flow to Liability                                   626 non-null    float64\n",
            " 81   CFO to Assets                                            626 non-null    float64\n",
            " 82   Cash Flow to Equity                                      626 non-null    float64\n",
            " 83   Current Liability to Current Assets                      626 non-null    float64\n",
            " 84   Liability-Assets Flag                                    626 non-null    float64\n",
            " 85   Net Income to Total Assets                               626 non-null    float64\n",
            " 86   Total assets to GNP price                                626 non-null    float64\n",
            " 87   No-credit Interval                                       626 non-null    float64\n",
            " 88   Gross Profit to Sales                                    626 non-null    float64\n",
            " 89   Net Income to Stockholder's Equity                       626 non-null    float64\n",
            " 90   Liability to Equity                                      626 non-null    float64\n",
            " 91   Degree of Financial Leverage (DFL)                       626 non-null    float64\n",
            " 92   Interest Coverage Ratio (Interest expense to EBIT)       626 non-null    float64\n",
            " 93   Net Income Flag                                          626 non-null    float64\n",
            " 94   Equity to Liability                                      626 non-null    float64\n",
            "dtypes: float64(95)\n",
            "memory usage: 465.5 KB\n"
          ]
        }
      ]
    },
    {
      "cell_type": "code",
      "source": [
        "x.fillna(value=0, inplace=True)"
      ],
      "metadata": {
        "id": "YbzbYkO_tKFp"
      },
      "execution_count": 51,
      "outputs": []
    },
    {
      "cell_type": "markdown",
      "source": [
        "## Separando os dados de treino e teste e criando o algoritmo de predição"
      ],
      "metadata": {
        "id": "IMhLRpTSt0DJ"
      }
    },
    {
      "cell_type": "code",
      "source": [
        "x_train, x_teste, y_train, y_teste = train_test_split(x,y, test_size = (0.3))"
      ],
      "metadata": {
        "id": "VYuJogMRurRQ"
      },
      "execution_count": 59,
      "outputs": []
    },
    {
      "cell_type": "code",
      "source": [
        "\n",
        "modelo = RandomForestClassifier()"
      ],
      "metadata": {
        "id": "f34Wsaj0tNvr"
      },
      "execution_count": 67,
      "outputs": []
    },
    {
      "cell_type": "markdown",
      "source": [
        "## Treinando o modelo"
      ],
      "metadata": {
        "id": "zGZZzJN8t80_"
      }
    },
    {
      "cell_type": "code",
      "source": [
        "modelo = modelo.fit(x_train, y_train)"
      ],
      "metadata": {
        "id": "NDziCq1Itx8T"
      },
      "execution_count": 68,
      "outputs": []
    },
    {
      "cell_type": "markdown",
      "source": [
        "## Aplicando o modelo e avaliando acurácia"
      ],
      "metadata": {
        "id": "r5avsxKy4U0r"
      }
    },
    {
      "cell_type": "code",
      "source": [
        "accuracy = modelo.score(x_teste, y_teste)"
      ],
      "metadata": {
        "id": "7c-zHUYQuBje"
      },
      "execution_count": 69,
      "outputs": []
    },
    {
      "cell_type": "code",
      "source": [
        "print(accuracy)"
      ],
      "metadata": {
        "colab": {
          "base_uri": "https://localhost:8080/"
        },
        "id": "byp6eU5R4hMQ",
        "outputId": "5659db2d-6b2b-44c7-8ac3-b6051d595c0e"
      },
      "execution_count": 70,
      "outputs": [
        {
          "output_type": "stream",
          "name": "stdout",
          "text": [
            "0.9576719576719577\n"
          ]
        }
      ]
    },
    {
      "cell_type": "markdown",
      "source": [
        "### 96% de acurácia na previsão de falências"
      ],
      "metadata": {
        "id": "yuXRbMSX4pFi"
      }
    }
  ]
}